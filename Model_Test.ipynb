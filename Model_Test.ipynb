{
  "nbformat": 4,
  "nbformat_minor": 0,
  "metadata": {
    "colab": {
      "provenance": []
    },
    "kernelspec": {
      "name": "python3",
      "display_name": "Python 3"
    },
    "language_info": {
      "name": "python"
    }
  },
  "cells": [
    {
      "cell_type": "code",
      "source": [
        "pip install yt_dlp pydub yt-dlp"
      ],
      "metadata": {
        "colab": {
          "base_uri": "https://localhost:8080/"
        },
        "id": "KopIXJuXsnEB",
        "outputId": "cdfb8134-8837-4349-a192-6f33bb0409bc"
      },
      "execution_count": 2,
      "outputs": [
        {
          "output_type": "stream",
          "name": "stdout",
          "text": [
            "Collecting yt_dlp\n",
            "  Downloading yt_dlp-2024.11.18-py3-none-any.whl.metadata (172 kB)\n",
            "\u001b[2K     \u001b[90m━━━━━━━━━━━━━━━━━━━━━━━━━━━━━━━━━━━━━━━━\u001b[0m \u001b[32m172.1/172.1 kB\u001b[0m \u001b[31m3.2 MB/s\u001b[0m eta \u001b[36m0:00:00\u001b[0m\n",
            "\u001b[?25hCollecting pydub\n",
            "  Downloading pydub-0.25.1-py2.py3-none-any.whl.metadata (1.4 kB)\n",
            "Downloading yt_dlp-2024.11.18-py3-none-any.whl (3.2 MB)\n",
            "\u001b[2K   \u001b[90m━━━━━━━━━━━━━━━━━━━━━━━━━━━━━━━━━━━━━━━━\u001b[0m \u001b[32m3.2/3.2 MB\u001b[0m \u001b[31m40.4 MB/s\u001b[0m eta \u001b[36m0:00:00\u001b[0m\n",
            "\u001b[?25hDownloading pydub-0.25.1-py2.py3-none-any.whl (32 kB)\n",
            "Installing collected packages: pydub, yt_dlp\n",
            "Successfully installed pydub-0.25.1 yt_dlp-2024.11.18\n"
          ]
        }
      ]
    },
    {
      "cell_type": "code",
      "source": [
        "import os\n",
        "import yt_dlp\n",
        "import cv2\n",
        "import librosa\n",
        "import librosa.display\n",
        "import numpy as np\n",
        "import matplotlib.pyplot as plt\n",
        "from tensorflow.keras.models import load_model\n",
        "from tensorflow.keras.preprocessing.image import load_img, img_to_array\n",
        "from pydub import AudioSegment\n",
        "from collections import Counter\n",
        "import logging\n",
        "logging.getLogger(\"absl\").setLevel(logging.ERROR)"
      ],
      "metadata": {
        "id": "kzS3m5_EoUpR"
      },
      "execution_count": 3,
      "outputs": []
    },
    {
      "cell_type": "code",
      "source": [
        "# ฟังก์ชันดาวน์โหลดและแปลงไฟล์ .mp3 จาก YouTube\n",
        "def download_audio_from_youtube(url, output_dir):\n",
        "    print('')\n",
        "    try:\n",
        "        os.makedirs(output_dir, exist_ok=True)\n",
        "        ydl_opts = {\n",
        "            'format': 'bestaudio/best',\n",
        "            'postprocessors': [{\n",
        "                'key': 'FFmpegExtractAudio',\n",
        "                'preferredcodec': 'mp3',\n",
        "                'preferredquality': '192',\n",
        "            }],\n",
        "            'outtmpl': os.path.join(output_dir, 'audio.%(ext)s'),\n",
        "            'keepvideo': False,\n",
        "            'quiet': True,\n",
        "            'no_warnings': True,\n",
        "            'logtostderr': False,\n",
        "        }\n",
        "        with yt_dlp.YoutubeDL(ydl_opts) as ydl:\n",
        "            info = ydl.extract_info(url, download=True)\n",
        "            output_file = os.path.join(output_dir, 'audio.mp3')\n",
        "            return output_file, info['title']\n",
        "    except Exception as e:\n",
        "        print(f\"เกิดข้อผิดพลาดในการดาวน์โหลด: {e}\")\n",
        "        return None, None"
      ],
      "metadata": {
        "id": "3t9O4pnXp082"
      },
      "execution_count": 4,
      "outputs": []
    },
    {
      "cell_type": "code",
      "source": [
        "# ฟังก์ชันตัดไฟล์เสียงเป็นช่วงละ 30 วินาที\n",
        "def trim_audio(input_file, output_dir, duration=30):\n",
        "    try:\n",
        "        os.makedirs(output_dir, exist_ok=True)\n",
        "        audio = AudioSegment.from_file(input_file)\n",
        "        total_duration = len(audio) / 1000\n",
        "        segments = []\n",
        "\n",
        "        for i in range(0, int(total_duration), duration):\n",
        "            start_time = i * 1000\n",
        "            end_time = (i + duration) * 1000\n",
        "            if end_time - start_time == duration * 1000:\n",
        "                segment = audio[start_time:end_time]\n",
        "                output_file = os.path.join(output_dir, f\"segment_{i // duration + 1}.mp3\")\n",
        "                segment.export(output_file, format=\"mp3\")\n",
        "                segments.append(output_file)\n",
        "\n",
        "        return segments\n",
        "    except Exception as e:\n",
        "        print(f\"เกิดข้อผิดพลาดในการตัดไฟล์เสียง: {e}\")\n",
        "        return []"
      ],
      "metadata": {
        "id": "_jSeUubXs6qg"
      },
      "execution_count": 5,
      "outputs": []
    },
    {
      "cell_type": "code",
      "source": [
        "# ฟังก์ชันสร้าง Mel Spectrogram\n",
        "def create_mel_spectrogram(input_file, output_file):\n",
        "    try:\n",
        "        y, sr = librosa.load(input_file, sr=None)\n",
        "        mel_spectrogram = librosa.feature.melspectrogram(y=y, sr=sr, n_fft=2048, hop_length=512, n_mels=128)\n",
        "        mel_spectrogram_db = librosa.power_to_db(mel_spectrogram, ref=np.max)\n",
        "\n",
        "        plt.figure(figsize=(10, 4))\n",
        "        librosa.display.specshow(mel_spectrogram_db, sr=sr, hop_length=512, x_axis=None, y_axis=None, cmap='magma')\n",
        "        plt.axis('off')\n",
        "        plt.tight_layout()\n",
        "        plt.savefig(output_file, bbox_inches='tight', pad_inches=0)\n",
        "        plt.close()\n",
        "        return output_file\n",
        "    except Exception as e:\n",
        "        print(f\"เกิดข้อผิดพลาดในการสร้าง Mel Spectrogram: {e}\")\n",
        "        return None"
      ],
      "metadata": {
        "id": "GFX271patALA"
      },
      "execution_count": 6,
      "outputs": []
    },
    {
      "cell_type": "code",
      "source": [
        "# ฟังก์ชันโหลดและปรับขนาด Mel Spectrogram\n",
        "def preprocess_mel_spectrogram(img_path):\n",
        "    try:\n",
        "        img = load_img(img_path)\n",
        "        img_array = img_to_array(img)\n",
        "        img_array = cv2.resize(img_array, (969, 370))\n",
        "        img_array = np.expand_dims(img_array, axis=0)\n",
        "        img_array = img_array / 255.0\n",
        "        return img_array\n",
        "    except Exception as e:\n",
        "        print(f\"เกิดข้อผิดพลาดในการปรับขนาดภาพ: {e}\")\n",
        "        return None"
      ],
      "metadata": {
        "id": "yddHHodwtCMW"
      },
      "execution_count": 7,
      "outputs": []
    },
    {
      "cell_type": "code",
      "source": [
        "# ฟังก์ชันทำนายอารมณ์ของแต่ละช่วง\n",
        "def predict_emotion(model, spectrogram_file, class_names):\n",
        "    try:\n",
        "        mel_img = preprocess_mel_spectrogram(spectrogram_file)\n",
        "        if mel_img is not None:\n",
        "            prediction = model.predict(mel_img)\n",
        "            predicted_class = class_names[np.argmax(prediction)]\n",
        "            print(f\"อารมณ์ที่คาดการณ์: {predicted_class}\\n\")\n",
        "            return predicted_class\n",
        "        return None\n",
        "    except Exception as e:\n",
        "        print(f\"เกิดข้อผิดพลาดในการทำนายอารมณ์: {e}\")\n",
        "        return None"
      ],
      "metadata": {
        "id": "1xpwwh6Y2MdC"
      },
      "execution_count": 8,
      "outputs": []
    },
    {
      "cell_type": "code",
      "source": [
        "# ฟังก์ชันทำนายอารมณ์ทั้งเพลง\n",
        "def predict_song_emotion(model_path, segments, class_names, output_dir):\n",
        "    try:\n",
        "        model = load_model(model_path)\n",
        "        predictions = []\n",
        "\n",
        "        for i, segment in enumerate(segments):\n",
        "            spectrogram_file = os.path.join(output_dir, f\"mel_spectrogram_{i + 1}.png\")\n",
        "            create_mel_spectrogram(segment, spectrogram_file)\n",
        "\n",
        "            print(f\"ส่วนที่ {i+1} ({str((i*30)//60).zfill(2)}:{str((i*30)%60).zfill(2)}-{str(((i+1)*30)//60).zfill(2)}:{str(((i+1)*30)%60).zfill(2)})\")\n",
        "            predicted_class = predict_emotion(model, spectrogram_file, class_names)\n",
        "            if predicted_class:\n",
        "                predictions.append(predicted_class)\n",
        "\n",
        "        if predictions:\n",
        "            most_common_emotion = Counter(predictions).most_common(1)[0][0]\n",
        "            return most_common_emotion\n",
        "        else:\n",
        "            print(\"ไม่มีผลการทำนาย\")\n",
        "            return None\n",
        "    except Exception as e:\n",
        "        print(f\"เกิดข้อผิดพลาดในการทำนายอารมณ์ของทั้งเพลง: {e}\")\n",
        "        return None"
      ],
      "metadata": {
        "id": "pJoRMmlE3Ue8"
      },
      "execution_count": 9,
      "outputs": []
    },
    {
      "cell_type": "code",
      "source": [
        "# ฟังก์ชันสำหรับการประมวลผลใน GUI\n",
        "def process_song(url, model_path, class_names):\n",
        "    try:\n",
        "        output_dir = \"./outputs\"\n",
        "        downloaded_audio = download_audio_from_youtube(url, output_dir)\n",
        "        if downloaded_audio:\n",
        "            segments = trim_audio(downloaded_audio, output_dir, duration=30)\n",
        "            result = predict_song_emotion(model_path, segments, class_names, output_dir)\n",
        "            messagebox.showinfo(\"ผลลัพธ์\", f\"อารมณ์โดยรวมของเพลง: {result}\")\n",
        "        else:\n",
        "            messagebox.showerror(\"ข้อผิดพลาด\", \"ไม่สามารถดาวน์โหลดไฟล์เสียงได้\")\n",
        "    except Exception as e:\n",
        "        messagebox.showerror(\"ข้อผิดพลาด\", f\"เกิดข้อผิดพลาด: {str(e)}\")"
      ],
      "metadata": {
        "id": "ZbkRAWZLELv6"
      },
      "execution_count": 10,
      "outputs": []
    },
    {
      "cell_type": "code",
      "source": [
        "# ฟังก์ชันหลัก\n",
        "def main():\n",
        "    youtube_url = input(\"กรุณาใส่ URL ของเพลง YouTube: \").strip()\n",
        "    if not youtube_url:\n",
        "        print(\"URL ไม่สามารถว่างได้\")\n",
        "        return\n",
        "\n",
        "    model_path = \"Mel_Spectrogram_model.h5\"\n",
        "    class_names = [\"Happy\", \"Sad\", \"Angry\", \"Calm\"]\n",
        "\n",
        "    output_dir = \"./outputs\"\n",
        "    downloaded_audio, song_title = download_audio_from_youtube(youtube_url, output_dir)\n",
        "    if downloaded_audio:\n",
        "        print(f\"กำลังวิเคราะห์อารมณ์เพลง: {song_title}\\n\")\n",
        "        segments = trim_audio(downloaded_audio, output_dir, duration=30)\n",
        "        result = predict_song_emotion(model_path, segments, class_names, output_dir)\n",
        "        if result:\n",
        "            print(f\"อารมณ์โดยรวมของเพลง: {result}\")\n",
        "        else:\n",
        "            print(\"ไม่สามารถทำนายอารมณ์ได้\")\n",
        "    else:\n",
        "        print(\"ไม่สามารถดาวน์โหลดไฟล์เสียงได้\")"
      ],
      "metadata": {
        "id": "7gRcZfEMF3_6"
      },
      "execution_count": 11,
      "outputs": []
    },
    {
      "cell_type": "code",
      "source": [
        "if __name__ == \"__main__\":\n",
        "    main()"
      ],
      "metadata": {
        "colab": {
          "base_uri": "https://localhost:8080/"
        },
        "id": "FSPYYrWLF_P-",
        "outputId": "44c9f2c8-6f0a-4d73-dc98-38c27878ac35"
      },
      "execution_count": 48,
      "outputs": [
        {
          "output_type": "stream",
          "name": "stdout",
          "text": [
            "กรุณาใส่ URL ของเพลง YouTube: https://www.youtube.com/watch?v=izLHRA9k1jQ\n",
            "\n",
            "กำลังวิเคราะห์อารมณ์เพลง: Klear - แด่เธอที่รัก (Official MV)\n",
            "\n",
            "ส่วนที่ 1 (00:00-00:30)\n",
            "\u001b[1m1/1\u001b[0m \u001b[32m━━━━━━━━━━━━━━━━━━━━\u001b[0m\u001b[37m\u001b[0m \u001b[1m4s\u001b[0m 4s/step\n",
            "อารมณ์ที่คาดการณ์: Sad\n",
            "\n",
            "ส่วนที่ 2 (00:30-01:00)\n",
            "\u001b[1m1/1\u001b[0m \u001b[32m━━━━━━━━━━━━━━━━━━━━\u001b[0m\u001b[37m\u001b[0m \u001b[1m3s\u001b[0m 3s/step\n",
            "อารมณ์ที่คาดการณ์: Sad\n",
            "\n",
            "ส่วนที่ 3 (01:00-01:30)\n",
            "\u001b[1m1/1\u001b[0m \u001b[32m━━━━━━━━━━━━━━━━━━━━\u001b[0m\u001b[37m\u001b[0m \u001b[1m4s\u001b[0m 4s/step\n",
            "อารมณ์ที่คาดการณ์: Sad\n",
            "\n",
            "ส่วนที่ 4 (01:30-02:00)\n",
            "\u001b[1m1/1\u001b[0m \u001b[32m━━━━━━━━━━━━━━━━━━━━\u001b[0m\u001b[37m\u001b[0m \u001b[1m3s\u001b[0m 3s/step\n",
            "อารมณ์ที่คาดการณ์: Sad\n",
            "\n",
            "ส่วนที่ 5 (02:00-02:30)\n",
            "\u001b[1m1/1\u001b[0m \u001b[32m━━━━━━━━━━━━━━━━━━━━\u001b[0m\u001b[37m\u001b[0m \u001b[1m3s\u001b[0m 3s/step\n",
            "อารมณ์ที่คาดการณ์: Calm\n",
            "\n",
            "ส่วนที่ 6 (02:30-03:00)\n",
            "\u001b[1m1/1\u001b[0m \u001b[32m━━━━━━━━━━━━━━━━━━━━\u001b[0m\u001b[37m\u001b[0m \u001b[1m4s\u001b[0m 4s/step\n",
            "อารมณ์ที่คาดการณ์: Sad\n",
            "\n",
            "ส่วนที่ 7 (03:00-03:30)\n",
            "\u001b[1m1/1\u001b[0m \u001b[32m━━━━━━━━━━━━━━━━━━━━\u001b[0m\u001b[37m\u001b[0m \u001b[1m3s\u001b[0m 3s/step\n",
            "อารมณ์ที่คาดการณ์: Sad\n",
            "\n",
            "ส่วนที่ 8 (03:30-04:00)\n",
            "\u001b[1m1/1\u001b[0m \u001b[32m━━━━━━━━━━━━━━━━━━━━\u001b[0m\u001b[37m\u001b[0m \u001b[1m3s\u001b[0m 3s/step\n",
            "อารมณ์ที่คาดการณ์: Sad\n",
            "\n",
            "ส่วนที่ 9 (04:00-04:30)\n",
            "\u001b[1m1/1\u001b[0m \u001b[32m━━━━━━━━━━━━━━━━━━━━\u001b[0m\u001b[37m\u001b[0m \u001b[1m4s\u001b[0m 4s/step\n",
            "อารมณ์ที่คาดการณ์: Sad\n",
            "\n",
            "ส่วนที่ 10 (04:30-05:00)\n",
            "\u001b[1m1/1\u001b[0m \u001b[32m━━━━━━━━━━━━━━━━━━━━\u001b[0m\u001b[37m\u001b[0m \u001b[1m4s\u001b[0m 4s/step\n",
            "อารมณ์ที่คาดการณ์: Angry\n",
            "\n",
            "อารมณ์โดยรวมของเพลง: Sad\n"
          ]
        }
      ]
    },
    {
      "cell_type": "code",
      "source": [],
      "metadata": {
        "id": "qhhQuxW0HvLk"
      },
      "execution_count": null,
      "outputs": []
    }
  ]
}